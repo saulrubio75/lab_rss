{
  "cells": [
    {
      "cell_type": "markdown",
      "metadata": {
        "id": "OzJoz4G8WruJ"
      },
      "source": [
        "# Working with RSS Feeds Lab\n",
        "\n",
        "Complete the following set of exercises to solidify your knowledge of parsing RSS feeds and extracting information from them."
      ]
    },
    {
      "cell_type": "code",
      "execution_count": 3,
      "metadata": {
        "id": "pzaDy7SUWruJ",
        "outputId": "4727593f-8f55-4f33-87d5-47b85eb02d5c",
        "colab": {
          "base_uri": "https://localhost:8080/"
        }
      },
      "outputs": [
        {
          "output_type": "stream",
          "name": "stdout",
          "text": [
            "Looking in indexes: https://pypi.org/simple, https://us-python.pkg.dev/colab-wheels/public/simple/\n",
            "Collecting feedparser\n",
            "  Downloading feedparser-6.0.10-py3-none-any.whl (81 kB)\n",
            "\u001b[K     |████████████████████████████████| 81 kB 7.7 MB/s \n",
            "\u001b[?25hCollecting sgmllib3k\n",
            "  Downloading sgmllib3k-1.0.0.tar.gz (5.8 kB)\n",
            "Building wheels for collected packages: sgmllib3k\n",
            "  Building wheel for sgmllib3k (setup.py) ... \u001b[?25l\u001b[?25hdone\n",
            "  Created wheel for sgmllib3k: filename=sgmllib3k-1.0.0-py3-none-any.whl size=6066 sha256=a6f9e5cac0ec9ae5407d4e3a1ba162d53e82ec62c4688318e1d9bbb3d9df7000\n",
            "  Stored in directory: /root/.cache/pip/wheels/73/ad/a4/0dff4a6ef231fc0dfa12ffbac2a36cebfdddfe059f50e019aa\n",
            "Successfully built sgmllib3k\n",
            "Installing collected packages: sgmllib3k, feedparser\n",
            "Successfully installed feedparser-6.0.10 sgmllib3k-1.0.0\n"
          ]
        }
      ],
      "source": [
        "!pip install feedparser\n",
        "import feedparser"
      ]
    },
    {
      "cell_type": "markdown",
      "metadata": {
        "id": "z8SLWhDPWruK"
      },
      "source": [
        "### 1. Use feedparser to parse the following RSS feed URL."
      ]
    },
    {
      "cell_type": "code",
      "execution_count": 4,
      "metadata": {
        "id": "WD0Hn8XxWruK"
      },
      "outputs": [],
      "source": [
        "url = 'http://feeds.feedburner.com/oreilly/radar/atom'"
      ]
    },
    {
      "cell_type": "code",
      "execution_count": 5,
      "metadata": {
        "id": "3eJI0qpeWruK"
      },
      "outputs": [],
      "source": [
        "url_parse = feedparser.parse('http://feeds.feedburner.com/oreilly/radar/atom')"
      ]
    },
    {
      "cell_type": "markdown",
      "metadata": {
        "id": "MZjmUWBDWruK"
      },
      "source": [
        "### 2. Obtain a list of components (keys) that are available for this feed."
      ]
    },
    {
      "cell_type": "code",
      "execution_count": 6,
      "metadata": {
        "id": "otJGSa4WWruK",
        "outputId": "6f7e5bd1-3931-44e4-867e-c8d515a54295",
        "colab": {
          "base_uri": "https://localhost:8080/"
        }
      },
      "outputs": [
        {
          "output_type": "execute_result",
          "data": {
            "text/plain": [
              "dict_keys(['bozo', 'entries', 'feed', 'headers', 'updated', 'updated_parsed', 'href', 'status', 'encoding', 'version', 'namespaces'])"
            ]
          },
          "metadata": {},
          "execution_count": 6
        }
      ],
      "source": [
        "url_parse.keys()"
      ]
    },
    {
      "cell_type": "markdown",
      "metadata": {
        "id": "KSsGJSF7WruK"
      },
      "source": [
        "### 3. Obtain a list of components (keys) that are available for the *feed* component of this RSS feed."
      ]
    },
    {
      "cell_type": "code",
      "execution_count": 7,
      "metadata": {
        "id": "pEv64n47WruK",
        "outputId": "976fc9bc-14af-42ae-8857-a5171b427927",
        "colab": {
          "base_uri": "https://localhost:8080/"
        }
      },
      "outputs": [
        {
          "output_type": "execute_result",
          "data": {
            "text/plain": [
              "dict_keys(['title', 'title_detail', 'links', 'link', 'subtitle', 'subtitle_detail', 'updated', 'updated_parsed', 'language', 'sy_updateperiod', 'sy_updatefrequency', 'generator_detail', 'generator'])"
            ]
          },
          "metadata": {},
          "execution_count": 7
        }
      ],
      "source": [
        "url_parse.feed.keys()"
      ]
    },
    {
      "cell_type": "markdown",
      "metadata": {
        "id": "NgwXReOPWruL"
      },
      "source": [
        "### 4. Extract and print the feed title, subtitle, author, and link."
      ]
    },
    {
      "cell_type": "code",
      "execution_count": 27,
      "metadata": {
        "id": "lTkKmV92WruL",
        "outputId": "77c39474-b384-48ce-ef6f-1ad450707561",
        "colab": {
          "base_uri": "https://localhost:8080/"
        }
      },
      "outputs": [
        {
          "output_type": "stream",
          "name": "stdout",
          "text": [
            "Radar\n",
            "\n",
            "Now, next, and beyond: Tracking need-to-know trends at the intersection of business and technology\n",
            "\n",
            "Mike Loukides\n",
            "\n",
            "https://www.oreilly.com/radar/radar-trends-to-watch-november-2022/\n"
          ]
        }
      ],
      "source": [
        "print(url_parse.feed.title) \n",
        "print()\n",
        "print(url_parse.feed.subtitle)  \n",
        "print()\n",
        "print(url_parse.entries[0]['author'])\n",
        "print()\n",
        "\n",
        "print(url_parse.entries[0]['links'][0]['href']) \n"
      ]
    },
    {
      "cell_type": "markdown",
      "metadata": {
        "id": "WQk93lkxWruL"
      },
      "source": [
        "### 5. Count the number of entries that are contained in this RSS feed."
      ]
    },
    {
      "cell_type": "code",
      "execution_count": 28,
      "metadata": {
        "id": "r40_JpNzWruL",
        "outputId": "77d59512-55ab-4930-fe17-c570c22ee0ce",
        "colab": {
          "base_uri": "https://localhost:8080/"
        }
      },
      "outputs": [
        {
          "output_type": "execute_result",
          "data": {
            "text/plain": [
              "{'title': 'Radar Trends to Watch: November 2022',\n",
              " 'title_detail': {'type': 'text/plain',\n",
              "  'language': None,\n",
              "  'base': 'http://feeds.feedburner.com/oreilly/radar/atom',\n",
              "  'value': 'Radar Trends to Watch: November 2022'},\n",
              " 'links': [{'rel': 'alternate',\n",
              "   'type': 'text/html',\n",
              "   'href': 'https://www.oreilly.com/radar/radar-trends-to-watch-november-2022/'}],\n",
              " 'link': 'https://www.oreilly.com/radar/radar-trends-to-watch-november-2022/',\n",
              " 'comments': 'https://www.oreilly.com/radar/radar-trends-to-watch-november-2022/#respond',\n",
              " 'published': 'Tue, 01 Nov 2022 11:15:57 +0000',\n",
              " 'published_parsed': time.struct_time(tm_year=2022, tm_mon=11, tm_mday=1, tm_hour=11, tm_min=15, tm_sec=57, tm_wday=1, tm_yday=305, tm_isdst=0),\n",
              " 'authors': [{'name': 'Mike Loukides'}],\n",
              " 'author': 'Mike Loukides',\n",
              " 'author_detail': {'name': 'Mike Loukides'},\n",
              " 'tags': [{'term': 'Radar Trends', 'scheme': None, 'label': None},\n",
              "  {'term': 'Signals', 'scheme': None, 'label': None}],\n",
              " 'id': 'https://www.oreilly.com/radar/?p=14760',\n",
              " 'guidislink': False,\n",
              " 'summary': 'Maintaining a separate category for AI is getting difficult. We’re seeing important articles about AI infiltrating security, programming, and almost everything else; even biology. That sounds like a minor point, but it’s important: AI is eating the world. What does it mean when an AI system can reconstruct what somebody wants to say from their [&#8230;]',\n",
              " 'summary_detail': {'type': 'text/html',\n",
              "  'language': None,\n",
              "  'base': 'http://feeds.feedburner.com/oreilly/radar/atom',\n",
              "  'value': 'Maintaining a separate category for AI is getting difficult. We’re seeing important articles about AI infiltrating security, programming, and almost everything else; even biology. That sounds like a minor point, but it’s important: AI is eating the world. What does it mean when an AI system can reconstruct what somebody wants to say from their [&#8230;]'},\n",
              " 'content': [{'type': 'text/html',\n",
              "   'language': None,\n",
              "   'base': 'http://feeds.feedburner.com/oreilly/radar/atom',\n",
              "   'value': '<p>Maintaining a separate category for AI is getting difficult. We’re seeing important articles about AI infiltrating security, programming, and almost everything else; even biology. That sounds like a minor point, but it’s important: AI is eating the world. What does it mean when an AI system can reconstruct what somebody wants to say from their brainwave? What does it mean when cultured brain cells can be configured to play Pong? They don’t play well, but it’s not long since that was a major achievement for AI.</p>\\n\\n\\n\\n<h2>Artificial Intelligence</h2>\\n\\n\\n\\n<ul><li>Hugo Bowne-Anderson <a href=\"https://www.youtube.com/watch?v=7zB6ESFto_U\" rel=\"noreferrer noopener\" target=\"_blank\">interviews Shreya Shankar</a> about her ethnographic study of MLOps Practices. This is a must-listen! Shreya talks about pain points, good practices, and how the real world differs from what you’re taught in school.</li><li><a href=\"https://usefulsensors.com/\" rel=\"noreferrer noopener\" target=\"_blank\">Useful Sensors</a> is a startup that produces <a href=\"https://petewarden.com/2022/10/20/launching-useful-sensors/\" rel=\"noreferrer noopener\" target=\"_blank\">sensors with AI built in</a>.\\xa0 Their first product is a <a href=\"https://www.sparkfun.com/products/21231\" rel=\"noreferrer noopener\" target=\"_blank\">PersonSensor</a>, a $10 camera that detects faces and computes their location relative to the camera.</li><li>The Bias Buccaneers is a group of volunteers who are creating a <a href=\"https://www.technologyreview.com/2022/10/20/1061977/ai-bias-bounty-help-catch-unfair-algorithms-faster/\" rel=\"noreferrer noopener\" target=\"_blank\">competition for detecting bias in AI systems</a>. Microsoft and Amazon, among others, are backing it. The practice of auditing AI systems, while it has had a slow start, is poised to grow as regulations covering AI gain traction.</li><li>Microsoft has released an open source toolkit for <a href=\"https://blogs.microsoft.com/ai/microsoft-open-sources-its-farm-of-the-future-toolkit/\" rel=\"noreferrer noopener\" target=\"_blank\">AI-based precision farming</a>.</li><li>Facebook’s <a href=\"https://arxiv.org/abs/2207.04672\" rel=\"noreferrer noopener\" target=\"_blank\">No Language Left Behind</a> project has released an open source <a href=\"https://github.com/facebookresearch/fairseq/tree/nllb\" rel=\"noreferrer noopener\" target=\"_blank\">model</a> (along with code and training data) that can translate between any of 200 languages.</li><li>The creators of StableDiffusion have <a href=\"https://mpost.io/stabilityai-announced-ai-music-generator-harmonai-based-on-dance-diffusion-model/\" rel=\"noreferrer noopener\" target=\"_blank\">announced</a><a href=\"https://www.harmonai.org/\" rel=\"noreferrer noopener\" target=\"_blank\"> HarmonyAI</a>, a community for building AI tools for generating music. They have released an application called <a href=\"https://colab.research.google.com/github/Harmonai-org/sample-generator/blob/main/Dance_Diffusion.ipynb\" rel=\"noreferrer noopener\" target=\"_blank\">Dance Diffusion</a>.</li><li>Researchers have developed a turtle-like robot that can both <a href=\"https://techxplore.com/news/2022-10-morphing-limbs-robot.html\" rel=\"noreferrer noopener\" target=\"_blank\">swim and walk on land</a> by changing the shape of its legs. Applications may include monitoring aquatic ecosystems and underwater farming.</li><li>If you’re interested in writing AI software to generate code (and not just using Copilot), Evan Pu has begun a series of blog posts on <a href=\"https://evanthebouncy.github.io/program-synthesis-minimal/what-is-synthesis/\" rel=\"noreferrer noopener\" target=\"_blank\">program synthesis</a>.</li><li>An AI application called <a href=\"https://techxplore.com/news/2022-10-ai-platform.html\" rel=\"noreferrer noopener\" target=\"_blank\">Transkribus</a> is capable of reading old handwriting. Anyone who has done archival research will know immediately what a big problem this is.</li><li>Transformers revolutionized natural language processing. CapitalOne is exploring the use of <a href=\"https://twimlai.com/podcast/twimlai/transformers-for-tabular-data-at-capital-one-with-bayan-bruss/\" rel=\"noreferrer noopener\" target=\"_blank\">Transformers for tabular data</a>, which could lead to a similar revolution in financial applications.</li><li>Google’s <a href=\"https://google-research.github.io/seanet/audiolm/examples/\" rel=\"noreferrer noopener\" target=\"_blank\">AudioLM</a> uses large <a href=\"https://www.technologyreview.com/2022/10/07/1060897/ai-audio-generation/\" rel=\"noreferrer noopener\" target=\"_blank\">language model techniques to produce spoken audio and music</a>. The prompts are audio clips, rather than texts, and the output sounds more natural than other audio synthesis software.</li><li>Can AI be used to develop new algorithms for problems humans think are well-understood, like matrix multiplication? Deep Mind’s <a href=\"https://www.deepmind.com/blog/discovering-novel-algorithms-with-alphatensor\" rel=\"noreferrer noopener\" target=\"_blank\">AlphaTensor</a> says yes. This result won’t get as much attention as generative art, but it is likely to be more important.</li><li>The White House has revealed its <a href=\"https://www.whitehouse.gov/ostp/ai-bill-of-rights/\" rel=\"noreferrer noopener\" target=\"_blank\">AI Bill of Rights</a>. It’s an impressive document but, unlike similar efforts in Europe and elsewhere, says little about enforcement.</li><li>Tesla has <a href=\"https://bdtechtalks.com/2022/10/03/teslas-optimus-robot/\" rel=\"noreferrer noopener\" target=\"_blank\">demonstrated a prototype of Optimus</a>, its humanoid home robot. Reactions are mixed; the demonstration was unimpressive, though they appear to have done years worth of R&amp;D in a very short time. It’s also not clear that their robot is solving the right problems.</li><li>Not to be outdone by Make-A-Video and <a href=\"https://phenaki.video/\" rel=\"noreferrer noopener\" target=\"_blank\">Phenaki</a> (another text-to-video AI generator), Google has announced <a href=\"https://imagen.research.google/video/\" rel=\"noreferrer noopener\" target=\"_blank\">Imagen Video</a> and <a href=\"https://dreamfusionpaper.github.io/\" rel=\"noreferrer noopener\" target=\"_blank\">DreamFusion</a>.\\xa0 DreamFusion generates 2D images that can be viewed from any angle. (Others have done <a href=\"https://github.com/ashawkey/stable-dreamfusion\" rel=\"noreferrer noopener\" target=\"_blank\">something similar based on Stable Diffusion</a>.)</li><li>An AI system can now <a href=\"https://www.biorxiv.org/content/10.1101/2022.09.29.509744v1\" rel=\"noreferrer noopener\" target=\"_blank\">reconstruct continuous language</a> sequences from non-invasive recordings of brain activity.</li><li>A <a href=\"https://www.technologyreview.com/2022/10/01/1060539/eu-tech-policy-harmful-ai-liability/\" rel=\"noreferrer noopener\" target=\"_blank\">proposed law in the EU</a> would allow people to sue AI companies for damages after being harmed by a result from an AI system.</li><li>A fascinating method for <a href=\"https://www.schneier.com/blog/archives/2022/10/detecting-deepfake-audio-by-modeling-the-human-acoustic-tract.html\" rel=\"noreferrer noopener\" target=\"_blank\">detecting audio deepfakes</a> has achieved 99% accuracy. It models what a human vocal tract would have to do to produce the sounds. Most deep fakes require impossible configurations of the vocal tracts.</li></ul>\\n\\n\\n\\n<h2>Programming</h2>\\n\\n\\n\\n<ul><li><a href=\"https://thenewstack.io/coders-author-clive-thompson-on-how-programming-is-changing/\" rel=\"noreferrer noopener\" target=\"_blank\">Clive Thompson’s thoughts</a> on the future of programming are worth reading, particularly on the influence of tools like Copilot on “code-adjacent” programmers; that is, non-professionals who do limited programming as part of their jobs. For them, Copilot will be a superpower.</li><li>Another kind of automatic code generation: the <a href=\"https://github.com/OpenAPITools/openapi-generator\" rel=\"noreferrer noopener\" target=\"_blank\">OpenAPI Generator</a> is a tool that automatically generates client libraries, stubs, and other code for APIs that are documented according to the <a href=\"https://github.com/OAI/OpenAPI-Specification\" rel=\"noreferrer noopener\" target=\"_blank\">OpenAPI Specification</a>.</li><li><a href=\"https://thenewstack.io/open-source-contribution-takes-a-hit-as-security-concerns-grow/\" rel=\"noreferrer noopener\" target=\"_blank\">Contributions of code to open source</a> software projects appear to be declining, possibly because of security concerns. If this hypothesis is correct, it is counterproductive. Open source is critical infrastructure, and critical infrastructure needs to be maintained.</li><li><a href=\"https://github.com/wasmcloud/\" rel=\"noreferrer noopener\" target=\"_blank\">wasmCloud</a> is a <a href=\"https://wasmcloud.com/\" rel=\"noreferrer noopener\" target=\"_blank\">platform</a> for developing components with WebAssembly that can run anywhere, including in the cloud or on small networked devices. It includes the ability to form a mesh network that’s independent of where components run.</li><li>Matt Welsh predicts that <a href=\"https://levelup.gitconnected.com/the-end-of-programming-6e3f7ff0d8b4\" rel=\"noreferrer noopener\" target=\"_blank\">the future of computing will not be about programming</a>; it will be about training large models for specialized applications.</li><li>Another tool for deploying containers: <a href=\"https://thenewstack.io/how-to-deploy-containers-with-nerdctl/\" rel=\"noreferrer noopener\" target=\"_blank\">nerdctl</a>. How many is too many? We don’t know whether nerdctl is a winner, but it’s important to watch for lightweight alternatives to Kubernetes.</li><li><a href=\"https://thenewstack.io/terraform-cloud-now-offers-less-code-and-no-code-options/\" rel=\"noreferrer noopener\" target=\"_blank\">Terraform will be offering a no code option</a> for cloud configuration.&nbsp; This will simplify cloud deployment, making it possible for developers to deploy directly without assistance from an operations group.</li><li>The Cassandra database will support <a href=\"https://thenewstack.io/an-apache-cassandra-breakthrough-acid-transactions-at-scale/\" rel=\"noreferrer noopener\" target=\"_blank\">ACID transactions</a>, taking advantage of a new consensus protocol named <a href=\"https://ieeexplore.ieee.org/document/9861765\" rel=\"noreferrer noopener\" target=\"_blank\">Accord</a>.</li><li>More alternatives to the Electron framework: Last month, we mentioned Rust’s Tauri. Now there’s an <a href=\"https://levelup.gitconnected.com/another-fantastic-electron-alternative-cc3a5ce12462\" rel=\"noreferrer noopener\" target=\"_blank\">Electron-like framework for Go</a>, called <a href=\"https://wails.app/\" rel=\"noreferrer noopener\" target=\"_blank\">Wails</a>.</li><li>Steve Yegge has emerged from retirement to take a job as Head of Engineering at <a href=\"https://about.sourcegraph.com/blog/introducing-steve-yegge\" rel=\"noreferrer noopener\" target=\"_blank\">Sourcegraph</a>, a company that’s making tools for searching, navigating, and understanding code across multiple repositories. We normally wouldn’t consider a “new hire” noteworthy, but everything Steve does is worth watching. Be on the lookout for some excellent tools.</li><li><a href=\"https://www.edgeless.systems/products/constellation/\" rel=\"noreferrer noopener\" target=\"_blank\">Constellation</a> is the first implementation of <a href=\"https://thenewstack.io/constellation-the-first-confidential-kubernetes-distribution/\" rel=\"noreferrer noopener\" target=\"_blank\">Confidential Kubernetes:</a> a Kubernetes distribution designed for confidential computing. Confidential computing isn’t limited to individual nodes; Constellation authenticates all of the nodes in a Kubernetes cluster, and ensures that data is always encrypted, especially in transit.</li></ul>\\n\\n\\n\\n<h2>Security</h2>\\n\\n\\n\\n<ul><li>A cryptocurrency mining operation named <a href=\"https://www.bleepingcomputer.com/news/security/massive-cryptomining-campaign-abuses-free-tier-cloud-dev-resources/amp/\" rel=\"noreferrer noopener\" target=\"_blank\">PurpleUrchin</a> is using free resources offered by services like GitHub and Heroku.&nbsp;The security community suspects that their goal isn’t mining coins but executing a 51% attack against one of the smaller currencies.</li><li>A <a href=\"https://arstechnica.com/information-technology/2022/10/passkeys-microsoft-apple-and-googles-password-killer-are-finally-here/\" rel=\"noreferrer noopener\" target=\"_blank\">standard for passkeys</a> that is supported by Google, Apple, and Microsoft, and that is easy to use, means that (at last, maybe) we can do away with passwords.</li><li><a href=\"https://www.schneier.com/blog/archives/2022/10/adversarial-ml-attack-that-secretly-gives-a-language-model-a-point-of-view.html\" rel=\"noreferrer noopener\" target=\"_blank\">Model spinning</a> is a new attack against language models that causes them to take a specific viewpoint on a subject in response to trigger words in the prompt–for example, taking a positive or negative viewpoint on a political figure. It could be used to generate interactive propaganda.</li><li>Random number generation is fundamental to many algorithms and games–particularly algorithms related to privacy and security. However, generating good random sequences is difficult. <a href=\"https://www.schneier.com/blog/archives/2022/10/on-the-randomness-of-automatic-card-shufflers.html\" rel=\"noreferrer noopener\" target=\"_blank\">Flaws in devices like</a><a href=\"https://www.bbc.com/future/article/20221019-how-a-magician-mathematician-revealed-a-casino-loophole\" rel=\"noreferrer noopener\" target=\"_blank\"> automatic card shufflers</a> show how tricky the problem can be.</li><li>The <a href=\"https://www.honeycomb.io/blog/future-ops-platform-engineering\" rel=\"noreferrer noopener\" target=\"_blank\">platform</a><a href=\"https://twitter.com/i/spaces/1vOxwMnyXpPGB\" rel=\"noreferrer noopener\" target=\"_blank\"> engineering</a><a href=\"https://www.elidedbranches.com/\" rel=\"noreferrer noopener\" target=\"_blank\"> movement</a> is <a href=\"https://thenewstack.io/sre-vs-devops-ops-vs-dev-2-0-or-something-new/\" rel=\"noreferrer noopener\" target=\"_blank\">gaining steam</a>. Platform engineering requires treating the developer’s environment as a product, and developing that environment into a platform that’s easy to work in, and that makes it simple and safe for developers to push working code into production.</li><li><a href=\"https://thenewstack.io/google-aurora-a-collab-between-chrome-and-web-frameworks/\" rel=\"noreferrer noopener\" target=\"_blank\">Aurora</a> is a collaboration between the Chrome browser’s development team and developers of frameworks like React and Next.JS that intends to make the browser a better target for these frameworks.</li><li>Mitre’s <a href=\"https://d3fend.mitre.org/\" rel=\"noreferrer noopener\" target=\"_blank\">D3FEND</a> is a public knowledge graph of cybersecurity countermeasures. It is a counterpart to <a href=\"https://attack.mitre.org/\" rel=\"noreferrer noopener\" target=\"_blank\">ATT&amp;CK</a>, a knowledge graph of tactics and techniques used by attackers.</li><li><a href=\"https://thenewstack.io/sternum-adds-observability-to-the-internet-of-things/\" rel=\"noreferrer noopener\" target=\"_blank\">Sternum</a> is an observability and security platform designed for IoT devices based on Linux or RTOS. It is difficult to get information from devices once they’re in the field. Sternum performs anomaly detection, in addition to providing information about user-defined traces.</li><li>What can you trust in the software supply chain? Nothing, not even compilers; a new <a href=\"https://arxiv.org/abs/2210.00108\" rel=\"noreferrer noopener\" target=\"_blank\">paper</a> shows that compilers can be used to insert undetectable backdoors into models for machine learning. Trust nothing.</li><li><a href=\"https://techxplore.com/news/2022-10-kind-downcoding-flaws-anonymizing.html\">Downcoding</a> is a new attack against common methods for anonymizing data. It was designed specifically as a challenge to privacy regulations: organizations that collect and share data have to do better to preserve privacy. Anonymization isn’t enough.</li></ul>\\n\\n\\n\\n<h2>Web3</h2>\\n\\n\\n\\n<ul><li>Apple’s AppStore now <a href=\"https://9to5mac.com/2022/10/24/app-store-guidelines-updated-nft-ad-managers/\" rel=\"noreferrer noopener\" target=\"_blank\">allows apps that purchase NFTs</a>, or deliver services through NFTs. However, all payments must be made through in-app purchases.</li><li>The British artist Damien Hirst has started to <a href=\"https://www.bbc.com/news/entertainment-arts-63218704\" rel=\"noreferrer noopener\" target=\"_blank\">burn the originals of artworks that he has sold as NFTs</a> to “complete the transformation” of the work into the digital world. The artworks are burned in a public exhibition, making the burning itself a work of performance art.</li><li>Metatheft: A threat actor has injected dApps into <a href=\"https://www.bleepingcomputer.com/news/security/hackers-are-breaching-scam-sites-to-hijack-crypto-transactions/\" rel=\"noreferrer noopener\" target=\"_blank\">cryptocurrency scam</a> sites. These dApps divert funds sent to the scammer to the threat actor’s accounts, thus stealing directly from the scam’s victims. The scammers presumably have no interest in reporting these thefts to authorities.</li></ul>\\n\\n\\n\\n<h2>Metaverse</h2>\\n\\n\\n\\n<ul><li>A Korean research group has developed a <a href=\"https://techxplore.com/news/2022-10-xr-based-metaverse-platform-multi-user-collaborations.html\" rel=\"noreferrer noopener\" target=\"_blank\">platform for collaboration in the Metaverse</a>. Fundamental ideas behind this platform are enabling people to work together in a virtual space; location recognition; minimizing latency between users; and gesture recognition.</li><li>It’s rumored that <a href=\"https://arstechnica.com/gadgets/2022/10/apples-ar-vr-headset-will-scan-your-iris-when-you-put-it-on/\" rel=\"noreferrer noopener\" target=\"_blank\">Apple’s VR headset will perform an iris scan</a> when someone puts it on, to authenticate the user to apps.</li><li>Facebook/Meta figures out how to <a href=\"https://techxplore.com/news/2022-10-meta-virtual-reality-avatars-legs.html\" rel=\"noreferrer noopener\" target=\"_blank\">add legs</a> to its Metaverse avatars. This was their “most requested feature.” Nobody seems impressed.</li></ul>\\n\\n\\n\\n<h2>Biology</h2>\\n\\n\\n\\n<ul><li><a href=\"https://arstechnica.com/science/2022/10/a-dish-of-neurons-may-have-taught-itself-to-play-pong-badly/\" rel=\"noreferrer noopener\" target=\"_blank\">Pong played by a dish of cultured neurons</a>? Dishbrain doesn’t play well, but it’s surprising that it plays at all.</li><li><a href=\"https://www.technologyreview.com/2022/10/12/1061204/human-brain-cells-transplanted-baby-rats-brains/\" rel=\"noreferrer noopener\" target=\"_blank\">Human brain cells transplanted into rat brains</a> grow and integrate themselves with the rat’s brain cells, eventually becoming roughly one sixth of a functioning brain. This could become a platform for researching human brain diseases. And we have to ask: <a href=\"https://www.technologyreview.com/2022/10/14/1061611/rats-with-human-brain-cells/\" rel=\"noreferrer noopener\" target=\"_blank\">are these rats just rats</a>?</li></ul>\\n\\n\\n\\n<h2>Quantum Computing</h2>\\n\\n\\n\\n<ul><li>Researchers have used a quantum computer to <a href=\"https://techxplore.com/news/2022-10-important-breakthrough-quantum-efficient-batteries.html\" rel=\"noreferrer noopener\" target=\"_blank\">find solutions to the Fermi-Hubbard model</a>, a&nbsp;problem that can’t be solved with classical computers. Unlike previous demonstrations of quantum advantage, which had no practical value, the Fermi-Hubbard model has important implications for battery and solar cell research.</li></ul>'}],\n",
              " 'wfw_commentrss': 'https://www.oreilly.com/radar/radar-trends-to-watch-november-2022/feed/',\n",
              " 'slash_comments': '0'}"
            ]
          },
          "metadata": {},
          "execution_count": 28
        }
      ],
      "source": [
        "url_parse.entries[0]"
      ]
    },
    {
      "cell_type": "markdown",
      "metadata": {
        "id": "feMEV1crWruL"
      },
      "source": [
        "### 6. Obtain a list of components (keys) available for an entry.\n",
        "\n",
        "*Hint: Remember to index first before requesting the keys*"
      ]
    },
    {
      "cell_type": "code",
      "execution_count": 29,
      "metadata": {
        "id": "Oe5l8b6bWruL",
        "outputId": "887d5a2a-8b9a-4ad6-cc35-d5a420db3a5f",
        "colab": {
          "base_uri": "https://localhost:8080/"
        }
      },
      "outputs": [
        {
          "output_type": "stream",
          "name": "stdout",
          "text": [
            "<built-in method keys of FeedParserDict object at 0x7efc30d9b3b0>\n"
          ]
        }
      ],
      "source": [
        "url_keys= url_parse.entries[0].keys\n",
        "print(url_keys)"
      ]
    },
    {
      "cell_type": "markdown",
      "metadata": {
        "id": "kKalK4StWruL"
      },
      "source": [
        "### 7. Extract a list of entry titles."
      ]
    },
    {
      "cell_type": "code",
      "execution_count": 30,
      "metadata": {
        "id": "S6fUooXhWruL",
        "outputId": "6407c9a3-03e7-49cc-b262-d39c938b3bb6",
        "colab": {
          "base_uri": "https://localhost:8080/"
        }
      },
      "outputs": [
        {
          "output_type": "stream",
          "name": "stdout",
          "text": [
            "['Radar Trends to Watch: November 2022', 'What We Learned Auditing Sophisticated AI for Bias', 'The Collaborative Metaverse', 'What Is Hyperautomation?', 'Radar Trends to Watch: October 2022', 'The Problem with Intelligence', 'Radar Trends to Watch: September 2022', 'Ad Networks and Content Marketing', 'On Technique', 'Scaling False Peaks', 'The Metaverse Is Not a Place', 'Radar Trends to Watch: August 2022', 'SQL: The Universal Solvent for REST APIs', 'Artificial Creativity?', 'Radar Trends to Watch: July 2022']\n"
          ]
        }
      ],
      "source": [
        "titles = [url_parse.entries[i].title for i in range (len(url_parse.entries))]\n",
        "print(titles)"
      ]
    },
    {
      "cell_type": "markdown",
      "metadata": {
        "id": "9-ihqtYjWruL"
      },
      "source": [
        "### 8. Calculate the percentage of \"Four short links\" entry titles."
      ]
    },
    {
      "cell_type": "code",
      "execution_count": 31,
      "metadata": {
        "id": "avenDWTwWruL",
        "outputId": "4c01b650-284e-4fb7-d4c8-f87ed8d58e97",
        "colab": {
          "base_uri": "https://localhost:8080/"
        }
      },
      "outputs": [
        {
          "output_type": "stream",
          "name": "stdout",
          "text": [
            "percent of four short links entries  0.0%\n"
          ]
        }
      ],
      "source": [
        "total_title = len(titles)\n",
        "\n",
        "count = 0\n",
        "for i in titles:\n",
        "    if 'four short links' in i.lower(): \n",
        "        count += 1  \n",
        "        \n",
        "percent = count / total_title\n",
        "print(f'percent of four short links entries  {percent*100}%')"
      ]
    },
    {
      "cell_type": "markdown",
      "metadata": {
        "id": "d_TB1t-kWruL"
      },
      "source": [
        "### 9. Create a Pandas data frame from the feed's entries."
      ]
    },
    {
      "cell_type": "code",
      "execution_count": 19,
      "metadata": {
        "id": "asH6UgcsWruL"
      },
      "outputs": [],
      "source": [
        "import pandas as pd"
      ]
    },
    {
      "cell_type": "code",
      "execution_count": 32,
      "metadata": {
        "id": "Ceqjh4QPWruM",
        "outputId": "3fd8be98-8190-4683-dae0-e6aec47d7f2e",
        "colab": {
          "base_uri": "https://localhost:8080/",
          "height": 617
        }
      },
      "outputs": [
        {
          "output_type": "execute_result",
          "data": {
            "text/plain": [
              "                                               title  \\\n",
              "0               Radar Trends to Watch: November 2022   \n",
              "1  What We Learned Auditing Sophisticated AI for ...   \n",
              "2                        The Collaborative Metaverse   \n",
              "3                           What Is Hyperautomation?   \n",
              "4                Radar Trends to Watch: October 2022   \n",
              "\n",
              "                                        title_detail  \\\n",
              "0  {'type': 'text/plain', 'language': None, 'base...   \n",
              "1  {'type': 'text/plain', 'language': None, 'base...   \n",
              "2  {'type': 'text/plain', 'language': None, 'base...   \n",
              "3  {'type': 'text/plain', 'language': None, 'base...   \n",
              "4  {'type': 'text/plain', 'language': None, 'base...   \n",
              "\n",
              "                                               links  \\\n",
              "0  [{'rel': 'alternate', 'type': 'text/html', 'hr...   \n",
              "1  [{'rel': 'alternate', 'type': 'text/html', 'hr...   \n",
              "2  [{'rel': 'alternate', 'type': 'text/html', 'hr...   \n",
              "3  [{'rel': 'alternate', 'type': 'text/html', 'hr...   \n",
              "4  [{'rel': 'alternate', 'type': 'text/html', 'hr...   \n",
              "\n",
              "                                                link  \\\n",
              "0  https://www.oreilly.com/radar/radar-trends-to-...   \n",
              "1  https://www.oreilly.com/radar/what-we-learned-...   \n",
              "2  https://www.oreilly.com/radar/the-collaborativ...   \n",
              "3  https://www.oreilly.com/radar/what-is-hyperaut...   \n",
              "4  https://www.oreilly.com/radar/radar-trends-to-...   \n",
              "\n",
              "                                            comments  \\\n",
              "0  https://www.oreilly.com/radar/radar-trends-to-...   \n",
              "1  https://www.oreilly.com/radar/what-we-learned-...   \n",
              "2  https://www.oreilly.com/radar/the-collaborativ...   \n",
              "3  https://www.oreilly.com/radar/what-is-hyperaut...   \n",
              "4  https://www.oreilly.com/radar/radar-trends-to-...   \n",
              "\n",
              "                         published                       published_parsed  \\\n",
              "0  Tue, 01 Nov 2022 11:15:57 +0000   (2022, 11, 1, 11, 15, 57, 1, 305, 0)   \n",
              "1  Tue, 18 Oct 2022 11:14:23 +0000  (2022, 10, 18, 11, 14, 23, 1, 291, 0)   \n",
              "2  Wed, 12 Oct 2022 20:01:45 +0000   (2022, 10, 12, 20, 1, 45, 2, 285, 0)   \n",
              "3  Tue, 11 Oct 2022 10:59:21 +0000  (2022, 10, 11, 10, 59, 21, 1, 284, 0)   \n",
              "4  Tue, 04 Oct 2022 11:15:42 +0000   (2022, 10, 4, 11, 15, 42, 1, 277, 0)   \n",
              "\n",
              "                       authors         author              author_detail  \\\n",
              "0  [{'name': 'Mike Loukides'}]  Mike Loukides  {'name': 'Mike Loukides'}   \n",
              "1   [{'name': 'Patrick Hall'}]   Patrick Hall   {'name': 'Patrick Hall'}   \n",
              "2  [{'name': 'Mike Loukides'}]  Mike Loukides  {'name': 'Mike Loukides'}   \n",
              "3  [{'name': 'Mike Loukides'}]  Mike Loukides  {'name': 'Mike Loukides'}   \n",
              "4  [{'name': 'Mike Loukides'}]  Mike Loukides  {'name': 'Mike Loukides'}   \n",
              "\n",
              "                                                tags  \\\n",
              "0  [{'term': 'Radar Trends', 'scheme': None, 'lab...   \n",
              "1  [{'term': 'AI & ML', 'scheme': None, 'label': ...   \n",
              "2  [{'term': 'Metaverse', 'scheme': None, 'label'...   \n",
              "3  [{'term': 'AI & ML', 'scheme': None, 'label': ...   \n",
              "4  [{'term': 'Radar Trends', 'scheme': None, 'lab...   \n",
              "\n",
              "                                       id  guidislink  \\\n",
              "0  https://www.oreilly.com/radar/?p=14760       False   \n",
              "1  https://www.oreilly.com/radar/?p=14754       False   \n",
              "2  https://www.oreilly.com/radar/?p=14750       False   \n",
              "3  https://www.oreilly.com/radar/?p=14733       False   \n",
              "4  https://www.oreilly.com/radar/?p=14726       False   \n",
              "\n",
              "                                             summary  \\\n",
              "0  Maintaining a separate category for AI is gett...   \n",
              "1  A recently passed law in New York City require...   \n",
              "2  We want to congratulate Dylan Field on his sta...   \n",
              "3  Gartner has anointed “Hyperautomation” one of ...   \n",
              "4  September was a busy month. In addition to con...   \n",
              "\n",
              "                                      summary_detail  \\\n",
              "0  {'type': 'text/html', 'language': None, 'base'...   \n",
              "1  {'type': 'text/html', 'language': None, 'base'...   \n",
              "2  {'type': 'text/html', 'language': None, 'base'...   \n",
              "3  {'type': 'text/html', 'language': None, 'base'...   \n",
              "4  {'type': 'text/html', 'language': None, 'base'...   \n",
              "\n",
              "                                             content  \\\n",
              "0  [{'type': 'text/html', 'language': None, 'base...   \n",
              "1  [{'type': 'text/html', 'language': None, 'base...   \n",
              "2  [{'type': 'text/html', 'language': None, 'base...   \n",
              "3  [{'type': 'text/html', 'language': None, 'base...   \n",
              "4  [{'type': 'text/html', 'language': None, 'base...   \n",
              "\n",
              "                                      wfw_commentrss slash_comments  \n",
              "0  https://www.oreilly.com/radar/radar-trends-to-...              0  \n",
              "1  https://www.oreilly.com/radar/what-we-learned-...              0  \n",
              "2  https://www.oreilly.com/radar/the-collaborativ...              0  \n",
              "3  https://www.oreilly.com/radar/what-is-hyperaut...              0  \n",
              "4  https://www.oreilly.com/radar/radar-trends-to-...              0  "
            ],
            "text/html": [
              "\n",
              "  <div id=\"df-617c3906-9d11-43f9-ad94-dcc541b81a07\">\n",
              "    <div class=\"colab-df-container\">\n",
              "      <div>\n",
              "<style scoped>\n",
              "    .dataframe tbody tr th:only-of-type {\n",
              "        vertical-align: middle;\n",
              "    }\n",
              "\n",
              "    .dataframe tbody tr th {\n",
              "        vertical-align: top;\n",
              "    }\n",
              "\n",
              "    .dataframe thead th {\n",
              "        text-align: right;\n",
              "    }\n",
              "</style>\n",
              "<table border=\"1\" class=\"dataframe\">\n",
              "  <thead>\n",
              "    <tr style=\"text-align: right;\">\n",
              "      <th></th>\n",
              "      <th>title</th>\n",
              "      <th>title_detail</th>\n",
              "      <th>links</th>\n",
              "      <th>link</th>\n",
              "      <th>comments</th>\n",
              "      <th>published</th>\n",
              "      <th>published_parsed</th>\n",
              "      <th>authors</th>\n",
              "      <th>author</th>\n",
              "      <th>author_detail</th>\n",
              "      <th>tags</th>\n",
              "      <th>id</th>\n",
              "      <th>guidislink</th>\n",
              "      <th>summary</th>\n",
              "      <th>summary_detail</th>\n",
              "      <th>content</th>\n",
              "      <th>wfw_commentrss</th>\n",
              "      <th>slash_comments</th>\n",
              "    </tr>\n",
              "  </thead>\n",
              "  <tbody>\n",
              "    <tr>\n",
              "      <th>0</th>\n",
              "      <td>Radar Trends to Watch: November 2022</td>\n",
              "      <td>{'type': 'text/plain', 'language': None, 'base...</td>\n",
              "      <td>[{'rel': 'alternate', 'type': 'text/html', 'hr...</td>\n",
              "      <td>https://www.oreilly.com/radar/radar-trends-to-...</td>\n",
              "      <td>https://www.oreilly.com/radar/radar-trends-to-...</td>\n",
              "      <td>Tue, 01 Nov 2022 11:15:57 +0000</td>\n",
              "      <td>(2022, 11, 1, 11, 15, 57, 1, 305, 0)</td>\n",
              "      <td>[{'name': 'Mike Loukides'}]</td>\n",
              "      <td>Mike Loukides</td>\n",
              "      <td>{'name': 'Mike Loukides'}</td>\n",
              "      <td>[{'term': 'Radar Trends', 'scheme': None, 'lab...</td>\n",
              "      <td>https://www.oreilly.com/radar/?p=14760</td>\n",
              "      <td>False</td>\n",
              "      <td>Maintaining a separate category for AI is gett...</td>\n",
              "      <td>{'type': 'text/html', 'language': None, 'base'...</td>\n",
              "      <td>[{'type': 'text/html', 'language': None, 'base...</td>\n",
              "      <td>https://www.oreilly.com/radar/radar-trends-to-...</td>\n",
              "      <td>0</td>\n",
              "    </tr>\n",
              "    <tr>\n",
              "      <th>1</th>\n",
              "      <td>What We Learned Auditing Sophisticated AI for ...</td>\n",
              "      <td>{'type': 'text/plain', 'language': None, 'base...</td>\n",
              "      <td>[{'rel': 'alternate', 'type': 'text/html', 'hr...</td>\n",
              "      <td>https://www.oreilly.com/radar/what-we-learned-...</td>\n",
              "      <td>https://www.oreilly.com/radar/what-we-learned-...</td>\n",
              "      <td>Tue, 18 Oct 2022 11:14:23 +0000</td>\n",
              "      <td>(2022, 10, 18, 11, 14, 23, 1, 291, 0)</td>\n",
              "      <td>[{'name': 'Patrick Hall'}]</td>\n",
              "      <td>Patrick Hall</td>\n",
              "      <td>{'name': 'Patrick Hall'}</td>\n",
              "      <td>[{'term': 'AI &amp; ML', 'scheme': None, 'label': ...</td>\n",
              "      <td>https://www.oreilly.com/radar/?p=14754</td>\n",
              "      <td>False</td>\n",
              "      <td>A recently passed law in New York City require...</td>\n",
              "      <td>{'type': 'text/html', 'language': None, 'base'...</td>\n",
              "      <td>[{'type': 'text/html', 'language': None, 'base...</td>\n",
              "      <td>https://www.oreilly.com/radar/what-we-learned-...</td>\n",
              "      <td>0</td>\n",
              "    </tr>\n",
              "    <tr>\n",
              "      <th>2</th>\n",
              "      <td>The Collaborative Metaverse</td>\n",
              "      <td>{'type': 'text/plain', 'language': None, 'base...</td>\n",
              "      <td>[{'rel': 'alternate', 'type': 'text/html', 'hr...</td>\n",
              "      <td>https://www.oreilly.com/radar/the-collaborativ...</td>\n",
              "      <td>https://www.oreilly.com/radar/the-collaborativ...</td>\n",
              "      <td>Wed, 12 Oct 2022 20:01:45 +0000</td>\n",
              "      <td>(2022, 10, 12, 20, 1, 45, 2, 285, 0)</td>\n",
              "      <td>[{'name': 'Mike Loukides'}]</td>\n",
              "      <td>Mike Loukides</td>\n",
              "      <td>{'name': 'Mike Loukides'}</td>\n",
              "      <td>[{'term': 'Metaverse', 'scheme': None, 'label'...</td>\n",
              "      <td>https://www.oreilly.com/radar/?p=14750</td>\n",
              "      <td>False</td>\n",
              "      <td>We want to congratulate Dylan Field on his sta...</td>\n",
              "      <td>{'type': 'text/html', 'language': None, 'base'...</td>\n",
              "      <td>[{'type': 'text/html', 'language': None, 'base...</td>\n",
              "      <td>https://www.oreilly.com/radar/the-collaborativ...</td>\n",
              "      <td>0</td>\n",
              "    </tr>\n",
              "    <tr>\n",
              "      <th>3</th>\n",
              "      <td>What Is Hyperautomation?</td>\n",
              "      <td>{'type': 'text/plain', 'language': None, 'base...</td>\n",
              "      <td>[{'rel': 'alternate', 'type': 'text/html', 'hr...</td>\n",
              "      <td>https://www.oreilly.com/radar/what-is-hyperaut...</td>\n",
              "      <td>https://www.oreilly.com/radar/what-is-hyperaut...</td>\n",
              "      <td>Tue, 11 Oct 2022 10:59:21 +0000</td>\n",
              "      <td>(2022, 10, 11, 10, 59, 21, 1, 284, 0)</td>\n",
              "      <td>[{'name': 'Mike Loukides'}]</td>\n",
              "      <td>Mike Loukides</td>\n",
              "      <td>{'name': 'Mike Loukides'}</td>\n",
              "      <td>[{'term': 'AI &amp; ML', 'scheme': None, 'label': ...</td>\n",
              "      <td>https://www.oreilly.com/radar/?p=14733</td>\n",
              "      <td>False</td>\n",
              "      <td>Gartner has anointed “Hyperautomation” one of ...</td>\n",
              "      <td>{'type': 'text/html', 'language': None, 'base'...</td>\n",
              "      <td>[{'type': 'text/html', 'language': None, 'base...</td>\n",
              "      <td>https://www.oreilly.com/radar/what-is-hyperaut...</td>\n",
              "      <td>0</td>\n",
              "    </tr>\n",
              "    <tr>\n",
              "      <th>4</th>\n",
              "      <td>Radar Trends to Watch: October 2022</td>\n",
              "      <td>{'type': 'text/plain', 'language': None, 'base...</td>\n",
              "      <td>[{'rel': 'alternate', 'type': 'text/html', 'hr...</td>\n",
              "      <td>https://www.oreilly.com/radar/radar-trends-to-...</td>\n",
              "      <td>https://www.oreilly.com/radar/radar-trends-to-...</td>\n",
              "      <td>Tue, 04 Oct 2022 11:15:42 +0000</td>\n",
              "      <td>(2022, 10, 4, 11, 15, 42, 1, 277, 0)</td>\n",
              "      <td>[{'name': 'Mike Loukides'}]</td>\n",
              "      <td>Mike Loukides</td>\n",
              "      <td>{'name': 'Mike Loukides'}</td>\n",
              "      <td>[{'term': 'Radar Trends', 'scheme': None, 'lab...</td>\n",
              "      <td>https://www.oreilly.com/radar/?p=14726</td>\n",
              "      <td>False</td>\n",
              "      <td>September was a busy month. In addition to con...</td>\n",
              "      <td>{'type': 'text/html', 'language': None, 'base'...</td>\n",
              "      <td>[{'type': 'text/html', 'language': None, 'base...</td>\n",
              "      <td>https://www.oreilly.com/radar/radar-trends-to-...</td>\n",
              "      <td>0</td>\n",
              "    </tr>\n",
              "  </tbody>\n",
              "</table>\n",
              "</div>\n",
              "      <button class=\"colab-df-convert\" onclick=\"convertToInteractive('df-617c3906-9d11-43f9-ad94-dcc541b81a07')\"\n",
              "              title=\"Convert this dataframe to an interactive table.\"\n",
              "              style=\"display:none;\">\n",
              "        \n",
              "  <svg xmlns=\"http://www.w3.org/2000/svg\" height=\"24px\"viewBox=\"0 0 24 24\"\n",
              "       width=\"24px\">\n",
              "    <path d=\"M0 0h24v24H0V0z\" fill=\"none\"/>\n",
              "    <path d=\"M18.56 5.44l.94 2.06.94-2.06 2.06-.94-2.06-.94-.94-2.06-.94 2.06-2.06.94zm-11 1L8.5 8.5l.94-2.06 2.06-.94-2.06-.94L8.5 2.5l-.94 2.06-2.06.94zm10 10l.94 2.06.94-2.06 2.06-.94-2.06-.94-.94-2.06-.94 2.06-2.06.94z\"/><path d=\"M17.41 7.96l-1.37-1.37c-.4-.4-.92-.59-1.43-.59-.52 0-1.04.2-1.43.59L10.3 9.45l-7.72 7.72c-.78.78-.78 2.05 0 2.83L4 21.41c.39.39.9.59 1.41.59.51 0 1.02-.2 1.41-.59l7.78-7.78 2.81-2.81c.8-.78.8-2.07 0-2.86zM5.41 20L4 18.59l7.72-7.72 1.47 1.35L5.41 20z\"/>\n",
              "  </svg>\n",
              "      </button>\n",
              "      \n",
              "  <style>\n",
              "    .colab-df-container {\n",
              "      display:flex;\n",
              "      flex-wrap:wrap;\n",
              "      gap: 12px;\n",
              "    }\n",
              "\n",
              "    .colab-df-convert {\n",
              "      background-color: #E8F0FE;\n",
              "      border: none;\n",
              "      border-radius: 50%;\n",
              "      cursor: pointer;\n",
              "      display: none;\n",
              "      fill: #1967D2;\n",
              "      height: 32px;\n",
              "      padding: 0 0 0 0;\n",
              "      width: 32px;\n",
              "    }\n",
              "\n",
              "    .colab-df-convert:hover {\n",
              "      background-color: #E2EBFA;\n",
              "      box-shadow: 0px 1px 2px rgba(60, 64, 67, 0.3), 0px 1px 3px 1px rgba(60, 64, 67, 0.15);\n",
              "      fill: #174EA6;\n",
              "    }\n",
              "\n",
              "    [theme=dark] .colab-df-convert {\n",
              "      background-color: #3B4455;\n",
              "      fill: #D2E3FC;\n",
              "    }\n",
              "\n",
              "    [theme=dark] .colab-df-convert:hover {\n",
              "      background-color: #434B5C;\n",
              "      box-shadow: 0px 1px 3px 1px rgba(0, 0, 0, 0.15);\n",
              "      filter: drop-shadow(0px 1px 2px rgba(0, 0, 0, 0.3));\n",
              "      fill: #FFFFFF;\n",
              "    }\n",
              "  </style>\n",
              "\n",
              "      <script>\n",
              "        const buttonEl =\n",
              "          document.querySelector('#df-617c3906-9d11-43f9-ad94-dcc541b81a07 button.colab-df-convert');\n",
              "        buttonEl.style.display =\n",
              "          google.colab.kernel.accessAllowed ? 'block' : 'none';\n",
              "\n",
              "        async function convertToInteractive(key) {\n",
              "          const element = document.querySelector('#df-617c3906-9d11-43f9-ad94-dcc541b81a07');\n",
              "          const dataTable =\n",
              "            await google.colab.kernel.invokeFunction('convertToInteractive',\n",
              "                                                     [key], {});\n",
              "          if (!dataTable) return;\n",
              "\n",
              "          const docLinkHtml = 'Like what you see? Visit the ' +\n",
              "            '<a target=\"_blank\" href=https://colab.research.google.com/notebooks/data_table.ipynb>data table notebook</a>'\n",
              "            + ' to learn more about interactive tables.';\n",
              "          element.innerHTML = '';\n",
              "          dataTable['output_type'] = 'display_data';\n",
              "          await google.colab.output.renderOutput(dataTable, element);\n",
              "          const docLink = document.createElement('div');\n",
              "          docLink.innerHTML = docLinkHtml;\n",
              "          element.appendChild(docLink);\n",
              "        }\n",
              "      </script>\n",
              "    </div>\n",
              "  </div>\n",
              "  "
            ]
          },
          "metadata": {},
          "execution_count": 32
        }
      ],
      "source": [
        "df = pd.DataFrame(url_parse.entries) \n",
        "df.head()"
      ]
    },
    {
      "cell_type": "markdown",
      "metadata": {
        "id": "XF5KxRHoWruM"
      },
      "source": [
        "### 10. Count the number of entries per author and sort them in descending order."
      ]
    },
    {
      "cell_type": "code",
      "execution_count": 33,
      "metadata": {
        "id": "4RInJTShWruM",
        "outputId": "f67ff3fb-6aed-48a9-b330-e11cce6159f9",
        "colab": {
          "base_uri": "https://localhost:8080/",
          "height": 238
        }
      },
      "outputs": [
        {
          "output_type": "execute_result",
          "data": {
            "text/plain": [
              "          author  entries\n",
              "2  Mike Loukides       10\n",
              "0      Jon Udell        1\n",
              "1  Kevlin Henney        1\n",
              "3   Patrick Hall        1\n",
              "4     Q McCallum        1\n",
              "5   Tim O’Reilly        1"
            ],
            "text/html": [
              "\n",
              "  <div id=\"df-c3acec0a-e73b-4aee-b714-9d78110ed12e\">\n",
              "    <div class=\"colab-df-container\">\n",
              "      <div>\n",
              "<style scoped>\n",
              "    .dataframe tbody tr th:only-of-type {\n",
              "        vertical-align: middle;\n",
              "    }\n",
              "\n",
              "    .dataframe tbody tr th {\n",
              "        vertical-align: top;\n",
              "    }\n",
              "\n",
              "    .dataframe thead th {\n",
              "        text-align: right;\n",
              "    }\n",
              "</style>\n",
              "<table border=\"1\" class=\"dataframe\">\n",
              "  <thead>\n",
              "    <tr style=\"text-align: right;\">\n",
              "      <th></th>\n",
              "      <th>author</th>\n",
              "      <th>entries</th>\n",
              "    </tr>\n",
              "  </thead>\n",
              "  <tbody>\n",
              "    <tr>\n",
              "      <th>2</th>\n",
              "      <td>Mike Loukides</td>\n",
              "      <td>10</td>\n",
              "    </tr>\n",
              "    <tr>\n",
              "      <th>0</th>\n",
              "      <td>Jon Udell</td>\n",
              "      <td>1</td>\n",
              "    </tr>\n",
              "    <tr>\n",
              "      <th>1</th>\n",
              "      <td>Kevlin Henney</td>\n",
              "      <td>1</td>\n",
              "    </tr>\n",
              "    <tr>\n",
              "      <th>3</th>\n",
              "      <td>Patrick Hall</td>\n",
              "      <td>1</td>\n",
              "    </tr>\n",
              "    <tr>\n",
              "      <th>4</th>\n",
              "      <td>Q McCallum</td>\n",
              "      <td>1</td>\n",
              "    </tr>\n",
              "    <tr>\n",
              "      <th>5</th>\n",
              "      <td>Tim O’Reilly</td>\n",
              "      <td>1</td>\n",
              "    </tr>\n",
              "  </tbody>\n",
              "</table>\n",
              "</div>\n",
              "      <button class=\"colab-df-convert\" onclick=\"convertToInteractive('df-c3acec0a-e73b-4aee-b714-9d78110ed12e')\"\n",
              "              title=\"Convert this dataframe to an interactive table.\"\n",
              "              style=\"display:none;\">\n",
              "        \n",
              "  <svg xmlns=\"http://www.w3.org/2000/svg\" height=\"24px\"viewBox=\"0 0 24 24\"\n",
              "       width=\"24px\">\n",
              "    <path d=\"M0 0h24v24H0V0z\" fill=\"none\"/>\n",
              "    <path d=\"M18.56 5.44l.94 2.06.94-2.06 2.06-.94-2.06-.94-.94-2.06-.94 2.06-2.06.94zm-11 1L8.5 8.5l.94-2.06 2.06-.94-2.06-.94L8.5 2.5l-.94 2.06-2.06.94zm10 10l.94 2.06.94-2.06 2.06-.94-2.06-.94-.94-2.06-.94 2.06-2.06.94z\"/><path d=\"M17.41 7.96l-1.37-1.37c-.4-.4-.92-.59-1.43-.59-.52 0-1.04.2-1.43.59L10.3 9.45l-7.72 7.72c-.78.78-.78 2.05 0 2.83L4 21.41c.39.39.9.59 1.41.59.51 0 1.02-.2 1.41-.59l7.78-7.78 2.81-2.81c.8-.78.8-2.07 0-2.86zM5.41 20L4 18.59l7.72-7.72 1.47 1.35L5.41 20z\"/>\n",
              "  </svg>\n",
              "      </button>\n",
              "      \n",
              "  <style>\n",
              "    .colab-df-container {\n",
              "      display:flex;\n",
              "      flex-wrap:wrap;\n",
              "      gap: 12px;\n",
              "    }\n",
              "\n",
              "    .colab-df-convert {\n",
              "      background-color: #E8F0FE;\n",
              "      border: none;\n",
              "      border-radius: 50%;\n",
              "      cursor: pointer;\n",
              "      display: none;\n",
              "      fill: #1967D2;\n",
              "      height: 32px;\n",
              "      padding: 0 0 0 0;\n",
              "      width: 32px;\n",
              "    }\n",
              "\n",
              "    .colab-df-convert:hover {\n",
              "      background-color: #E2EBFA;\n",
              "      box-shadow: 0px 1px 2px rgba(60, 64, 67, 0.3), 0px 1px 3px 1px rgba(60, 64, 67, 0.15);\n",
              "      fill: #174EA6;\n",
              "    }\n",
              "\n",
              "    [theme=dark] .colab-df-convert {\n",
              "      background-color: #3B4455;\n",
              "      fill: #D2E3FC;\n",
              "    }\n",
              "\n",
              "    [theme=dark] .colab-df-convert:hover {\n",
              "      background-color: #434B5C;\n",
              "      box-shadow: 0px 1px 3px 1px rgba(0, 0, 0, 0.15);\n",
              "      filter: drop-shadow(0px 1px 2px rgba(0, 0, 0, 0.3));\n",
              "      fill: #FFFFFF;\n",
              "    }\n",
              "  </style>\n",
              "\n",
              "      <script>\n",
              "        const buttonEl =\n",
              "          document.querySelector('#df-c3acec0a-e73b-4aee-b714-9d78110ed12e button.colab-df-convert');\n",
              "        buttonEl.style.display =\n",
              "          google.colab.kernel.accessAllowed ? 'block' : 'none';\n",
              "\n",
              "        async function convertToInteractive(key) {\n",
              "          const element = document.querySelector('#df-c3acec0a-e73b-4aee-b714-9d78110ed12e');\n",
              "          const dataTable =\n",
              "            await google.colab.kernel.invokeFunction('convertToInteractive',\n",
              "                                                     [key], {});\n",
              "          if (!dataTable) return;\n",
              "\n",
              "          const docLinkHtml = 'Like what you see? Visit the ' +\n",
              "            '<a target=\"_blank\" href=https://colab.research.google.com/notebooks/data_table.ipynb>data table notebook</a>'\n",
              "            + ' to learn more about interactive tables.';\n",
              "          element.innerHTML = '';\n",
              "          dataTable['output_type'] = 'display_data';\n",
              "          await google.colab.output.renderOutput(dataTable, element);\n",
              "          const docLink = document.createElement('div');\n",
              "          docLink.innerHTML = docLinkHtml;\n",
              "          element.appendChild(docLink);\n",
              "        }\n",
              "      </script>\n",
              "    </div>\n",
              "  </div>\n",
              "  "
            ]
          },
          "metadata": {},
          "execution_count": 33
        }
      ],
      "source": [
        "authors = df.groupby('author', as_index=False).agg({'title':'count'}) \n",
        "authors.columns = ['author', 'entries'] \n",
        "authors.sort_values('entries', ascending=False) "
      ]
    },
    {
      "cell_type": "markdown",
      "metadata": {
        "id": "vfugwei6WruM"
      },
      "source": [
        "### 11. Add a new column to the data frame that contains the length (number of characters) of each entry title. Return a data frame that contains the title, author, and title length of each entry in descending order (longest title length at the top)."
      ]
    },
    {
      "cell_type": "code",
      "execution_count": 34,
      "metadata": {
        "id": "a0HFrIVDWruM",
        "outputId": "89268ca4-19b1-488e-d1ed-7cec55cd2cbe",
        "colab": {
          "base_uri": "https://localhost:8080/",
          "height": 520
        }
      },
      "outputs": [
        {
          "output_type": "execute_result",
          "data": {
            "text/plain": [
              "                                                title         author  \\\n",
              "1   What We Learned Auditing Sophisticated AI for ...   Patrick Hall   \n",
              "12           SQL: The Universal Solvent for REST APIs      Jon Udell   \n",
              "6               Radar Trends to Watch: September 2022  Mike Loukides   \n",
              "0                Radar Trends to Watch: November 2022  Mike Loukides   \n",
              "4                 Radar Trends to Watch: October 2022  Mike Loukides   \n",
              "11                 Radar Trends to Watch: August 2022  Mike Loukides   \n",
              "7                   Ad Networks and Content Marketing     Q McCallum   \n",
              "14                   Radar Trends to Watch: July 2022  Mike Loukides   \n",
              "5                       The Problem with Intelligence  Mike Loukides   \n",
              "10                       The Metaverse Is Not a Place   Tim O’Reilly   \n",
              "2                         The Collaborative Metaverse  Mike Loukides   \n",
              "3                            What Is Hyperautomation?  Mike Loukides   \n",
              "13                             Artificial Creativity?  Mike Loukides   \n",
              "9                                 Scaling False Peaks  Kevlin Henney   \n",
              "8                                        On Technique  Mike Loukides   \n",
              "\n",
              "    title_len  \n",
              "1          50  \n",
              "12         40  \n",
              "6          37  \n",
              "0          36  \n",
              "4          35  \n",
              "11         34  \n",
              "7          33  \n",
              "14         32  \n",
              "5          29  \n",
              "10         28  \n",
              "2          27  \n",
              "3          24  \n",
              "13         22  \n",
              "9          19  \n",
              "8          12  "
            ],
            "text/html": [
              "\n",
              "  <div id=\"df-41cd3198-c026-487e-814b-f059610582aa\">\n",
              "    <div class=\"colab-df-container\">\n",
              "      <div>\n",
              "<style scoped>\n",
              "    .dataframe tbody tr th:only-of-type {\n",
              "        vertical-align: middle;\n",
              "    }\n",
              "\n",
              "    .dataframe tbody tr th {\n",
              "        vertical-align: top;\n",
              "    }\n",
              "\n",
              "    .dataframe thead th {\n",
              "        text-align: right;\n",
              "    }\n",
              "</style>\n",
              "<table border=\"1\" class=\"dataframe\">\n",
              "  <thead>\n",
              "    <tr style=\"text-align: right;\">\n",
              "      <th></th>\n",
              "      <th>title</th>\n",
              "      <th>author</th>\n",
              "      <th>title_len</th>\n",
              "    </tr>\n",
              "  </thead>\n",
              "  <tbody>\n",
              "    <tr>\n",
              "      <th>1</th>\n",
              "      <td>What We Learned Auditing Sophisticated AI for ...</td>\n",
              "      <td>Patrick Hall</td>\n",
              "      <td>50</td>\n",
              "    </tr>\n",
              "    <tr>\n",
              "      <th>12</th>\n",
              "      <td>SQL: The Universal Solvent for REST APIs</td>\n",
              "      <td>Jon Udell</td>\n",
              "      <td>40</td>\n",
              "    </tr>\n",
              "    <tr>\n",
              "      <th>6</th>\n",
              "      <td>Radar Trends to Watch: September 2022</td>\n",
              "      <td>Mike Loukides</td>\n",
              "      <td>37</td>\n",
              "    </tr>\n",
              "    <tr>\n",
              "      <th>0</th>\n",
              "      <td>Radar Trends to Watch: November 2022</td>\n",
              "      <td>Mike Loukides</td>\n",
              "      <td>36</td>\n",
              "    </tr>\n",
              "    <tr>\n",
              "      <th>4</th>\n",
              "      <td>Radar Trends to Watch: October 2022</td>\n",
              "      <td>Mike Loukides</td>\n",
              "      <td>35</td>\n",
              "    </tr>\n",
              "    <tr>\n",
              "      <th>11</th>\n",
              "      <td>Radar Trends to Watch: August 2022</td>\n",
              "      <td>Mike Loukides</td>\n",
              "      <td>34</td>\n",
              "    </tr>\n",
              "    <tr>\n",
              "      <th>7</th>\n",
              "      <td>Ad Networks and Content Marketing</td>\n",
              "      <td>Q McCallum</td>\n",
              "      <td>33</td>\n",
              "    </tr>\n",
              "    <tr>\n",
              "      <th>14</th>\n",
              "      <td>Radar Trends to Watch: July 2022</td>\n",
              "      <td>Mike Loukides</td>\n",
              "      <td>32</td>\n",
              "    </tr>\n",
              "    <tr>\n",
              "      <th>5</th>\n",
              "      <td>The Problem with Intelligence</td>\n",
              "      <td>Mike Loukides</td>\n",
              "      <td>29</td>\n",
              "    </tr>\n",
              "    <tr>\n",
              "      <th>10</th>\n",
              "      <td>The Metaverse Is Not a Place</td>\n",
              "      <td>Tim O’Reilly</td>\n",
              "      <td>28</td>\n",
              "    </tr>\n",
              "    <tr>\n",
              "      <th>2</th>\n",
              "      <td>The Collaborative Metaverse</td>\n",
              "      <td>Mike Loukides</td>\n",
              "      <td>27</td>\n",
              "    </tr>\n",
              "    <tr>\n",
              "      <th>3</th>\n",
              "      <td>What Is Hyperautomation?</td>\n",
              "      <td>Mike Loukides</td>\n",
              "      <td>24</td>\n",
              "    </tr>\n",
              "    <tr>\n",
              "      <th>13</th>\n",
              "      <td>Artificial Creativity?</td>\n",
              "      <td>Mike Loukides</td>\n",
              "      <td>22</td>\n",
              "    </tr>\n",
              "    <tr>\n",
              "      <th>9</th>\n",
              "      <td>Scaling False Peaks</td>\n",
              "      <td>Kevlin Henney</td>\n",
              "      <td>19</td>\n",
              "    </tr>\n",
              "    <tr>\n",
              "      <th>8</th>\n",
              "      <td>On Technique</td>\n",
              "      <td>Mike Loukides</td>\n",
              "      <td>12</td>\n",
              "    </tr>\n",
              "  </tbody>\n",
              "</table>\n",
              "</div>\n",
              "      <button class=\"colab-df-convert\" onclick=\"convertToInteractive('df-41cd3198-c026-487e-814b-f059610582aa')\"\n",
              "              title=\"Convert this dataframe to an interactive table.\"\n",
              "              style=\"display:none;\">\n",
              "        \n",
              "  <svg xmlns=\"http://www.w3.org/2000/svg\" height=\"24px\"viewBox=\"0 0 24 24\"\n",
              "       width=\"24px\">\n",
              "    <path d=\"M0 0h24v24H0V0z\" fill=\"none\"/>\n",
              "    <path d=\"M18.56 5.44l.94 2.06.94-2.06 2.06-.94-2.06-.94-.94-2.06-.94 2.06-2.06.94zm-11 1L8.5 8.5l.94-2.06 2.06-.94-2.06-.94L8.5 2.5l-.94 2.06-2.06.94zm10 10l.94 2.06.94-2.06 2.06-.94-2.06-.94-.94-2.06-.94 2.06-2.06.94z\"/><path d=\"M17.41 7.96l-1.37-1.37c-.4-.4-.92-.59-1.43-.59-.52 0-1.04.2-1.43.59L10.3 9.45l-7.72 7.72c-.78.78-.78 2.05 0 2.83L4 21.41c.39.39.9.59 1.41.59.51 0 1.02-.2 1.41-.59l7.78-7.78 2.81-2.81c.8-.78.8-2.07 0-2.86zM5.41 20L4 18.59l7.72-7.72 1.47 1.35L5.41 20z\"/>\n",
              "  </svg>\n",
              "      </button>\n",
              "      \n",
              "  <style>\n",
              "    .colab-df-container {\n",
              "      display:flex;\n",
              "      flex-wrap:wrap;\n",
              "      gap: 12px;\n",
              "    }\n",
              "\n",
              "    .colab-df-convert {\n",
              "      background-color: #E8F0FE;\n",
              "      border: none;\n",
              "      border-radius: 50%;\n",
              "      cursor: pointer;\n",
              "      display: none;\n",
              "      fill: #1967D2;\n",
              "      height: 32px;\n",
              "      padding: 0 0 0 0;\n",
              "      width: 32px;\n",
              "    }\n",
              "\n",
              "    .colab-df-convert:hover {\n",
              "      background-color: #E2EBFA;\n",
              "      box-shadow: 0px 1px 2px rgba(60, 64, 67, 0.3), 0px 1px 3px 1px rgba(60, 64, 67, 0.15);\n",
              "      fill: #174EA6;\n",
              "    }\n",
              "\n",
              "    [theme=dark] .colab-df-convert {\n",
              "      background-color: #3B4455;\n",
              "      fill: #D2E3FC;\n",
              "    }\n",
              "\n",
              "    [theme=dark] .colab-df-convert:hover {\n",
              "      background-color: #434B5C;\n",
              "      box-shadow: 0px 1px 3px 1px rgba(0, 0, 0, 0.15);\n",
              "      filter: drop-shadow(0px 1px 2px rgba(0, 0, 0, 0.3));\n",
              "      fill: #FFFFFF;\n",
              "    }\n",
              "  </style>\n",
              "\n",
              "      <script>\n",
              "        const buttonEl =\n",
              "          document.querySelector('#df-41cd3198-c026-487e-814b-f059610582aa button.colab-df-convert');\n",
              "        buttonEl.style.display =\n",
              "          google.colab.kernel.accessAllowed ? 'block' : 'none';\n",
              "\n",
              "        async function convertToInteractive(key) {\n",
              "          const element = document.querySelector('#df-41cd3198-c026-487e-814b-f059610582aa');\n",
              "          const dataTable =\n",
              "            await google.colab.kernel.invokeFunction('convertToInteractive',\n",
              "                                                     [key], {});\n",
              "          if (!dataTable) return;\n",
              "\n",
              "          const docLinkHtml = 'Like what you see? Visit the ' +\n",
              "            '<a target=\"_blank\" href=https://colab.research.google.com/notebooks/data_table.ipynb>data table notebook</a>'\n",
              "            + ' to learn more about interactive tables.';\n",
              "          element.innerHTML = '';\n",
              "          dataTable['output_type'] = 'display_data';\n",
              "          await google.colab.output.renderOutput(dataTable, element);\n",
              "          const docLink = document.createElement('div');\n",
              "          docLink.innerHTML = docLinkHtml;\n",
              "          element.appendChild(docLink);\n",
              "        }\n",
              "      </script>\n",
              "    </div>\n",
              "  </div>\n",
              "  "
            ]
          },
          "metadata": {},
          "execution_count": 34
        }
      ],
      "source": [
        "df['title_len'] = df['title'].apply(len)\n",
        "df[['title', 'author', 'title_len']].sort_values('title_len', ascending=False)"
      ]
    },
    {
      "cell_type": "markdown",
      "metadata": {
        "id": "Kr4dytuZWruM"
      },
      "source": [
        "### 12. Create a list of entry titles whose summary includes the phrase \"machine learning.\""
      ]
    },
    {
      "cell_type": "code",
      "execution_count": 35,
      "metadata": {
        "id": "M192bW1uWruM",
        "outputId": "21fa0b8b-d789-473f-b604-d68649173c89",
        "colab": {
          "base_uri": "https://localhost:8080/",
          "height": 240
        }
      },
      "outputs": [
        {
          "output_type": "error",
          "ename": "NameError",
          "evalue": "ignored",
          "traceback": [
            "\u001b[0;31m---------------------------------------------------------------------------\u001b[0m",
            "\u001b[0;31mNameError\u001b[0m                                 Traceback (most recent call last)",
            "\u001b[0;32m<ipython-input-35-bd77abb0d0d7>\u001b[0m in \u001b[0;36m<module>\u001b[0;34m\u001b[0m\n\u001b[1;32m      1\u001b[0m \u001b[0mlist_ML\u001b[0m\u001b[0;34m=\u001b[0m \u001b[0;34m[\u001b[0m\u001b[0;34m]\u001b[0m\u001b[0;34m\u001b[0m\u001b[0;34m\u001b[0m\u001b[0m\n\u001b[0;32m----> 2\u001b[0;31m \u001b[0;32mfor\u001b[0m \u001b[0mi\u001b[0m \u001b[0;32min\u001b[0m \u001b[0mrange\u001b[0m\u001b[0;34m(\u001b[0m\u001b[0mlen\u001b[0m\u001b[0;34m(\u001b[0m\u001b[0minfo\u001b[0m\u001b[0;34m[\u001b[0m\u001b[0;34m'entries'\u001b[0m\u001b[0;34m]\u001b[0m\u001b[0;34m)\u001b[0m\u001b[0;34m)\u001b[0m\u001b[0;34m:\u001b[0m\u001b[0;34m\u001b[0m\u001b[0;34m\u001b[0m\u001b[0m\n\u001b[0m\u001b[1;32m      3\u001b[0m     \u001b[0;32mif\u001b[0m \u001b[0;34m'machine learning'\u001b[0m \u001b[0;32min\u001b[0m \u001b[0minfo\u001b[0m\u001b[0;34m[\u001b[0m\u001b[0;34m'entries'\u001b[0m\u001b[0;34m]\u001b[0m\u001b[0;34m[\u001b[0m\u001b[0mi\u001b[0m\u001b[0;34m]\u001b[0m\u001b[0;34m[\u001b[0m\u001b[0;34m'summary'\u001b[0m\u001b[0;34m]\u001b[0m\u001b[0;34m.\u001b[0m\u001b[0mlower\u001b[0m\u001b[0;34m(\u001b[0m\u001b[0;34m)\u001b[0m\u001b[0;34m:\u001b[0m\u001b[0;34m\u001b[0m\u001b[0;34m\u001b[0m\u001b[0m\n\u001b[1;32m      4\u001b[0m         \u001b[0mlist_ML\u001b[0m\u001b[0;34m.\u001b[0m\u001b[0mappend\u001b[0m\u001b[0;34m(\u001b[0m\u001b[0minfo\u001b[0m\u001b[0;34m[\u001b[0m\u001b[0;34m'entries'\u001b[0m\u001b[0;34m]\u001b[0m\u001b[0;34m[\u001b[0m\u001b[0mi\u001b[0m\u001b[0;34m]\u001b[0m\u001b[0;34m[\u001b[0m\u001b[0;34m'title'\u001b[0m\u001b[0;34m]\u001b[0m\u001b[0;34m)\u001b[0m\u001b[0;34m\u001b[0m\u001b[0;34m\u001b[0m\u001b[0m\n\u001b[1;32m      5\u001b[0m \u001b[0;34m\u001b[0m\u001b[0m\n",
            "\u001b[0;31mNameError\u001b[0m: name 'info' is not defined"
          ]
        }
      ],
      "source": [
        "list_ML = []\n",
        "\n",
        "for i in range(len(info['entries'])):\n",
        "  if 'machine learning' in info['entries'][i]['summary'].lower():\n",
        "    list_ML.append(info['entries'][i]['title'])\n",
        "\n",
        "print(f'Books related to machine learning ')\n",
        "list_ML"
      ]
    }
  ],
  "metadata": {
    "kernelspec": {
      "display_name": "Python 3",
      "language": "python",
      "name": "python3"
    },
    "language_info": {
      "codemirror_mode": {
        "name": "ipython",
        "version": 3
      },
      "file_extension": ".py",
      "mimetype": "text/x-python",
      "name": "python",
      "nbconvert_exporter": "python",
      "pygments_lexer": "ipython3",
      "version": "3.7.0"
    },
    "colab": {
      "provenance": []
    }
  },
  "nbformat": 4,
  "nbformat_minor": 0
}